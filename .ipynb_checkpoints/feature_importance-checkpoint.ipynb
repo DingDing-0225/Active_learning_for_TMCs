{
 "cells": [
  {
   "cell_type": "markdown",
   "id": "bd608c82",
   "metadata": {},
   "source": [
    "## XGBoost"
   ]
  },
  {
   "cell_type": "code",
   "execution_count": 8,
   "id": "4c5d795e",
   "metadata": {
    "scrolled": false
   },
   "outputs": [
    {
     "name": "stdout",
     "output_type": "stream",
     "text": [
      "           Feature  Importance\n",
      "0            AB_AN    0.093702\n",
      "1            AB_AW    0.015703\n",
      "2            AB_CR    0.023576\n",
      "3            AB_AR    0.000000\n",
      "4            AB_VR    0.006340\n",
      "5            AB_AV    0.007006\n",
      "6           AB_FIE    0.032676\n",
      "7           AB_SIE    0.034330\n",
      "8            AB_EA    0.020158\n",
      "9            AB_EN    0.006386\n",
      "10           AB_Nd    0.053321\n",
      "11           AB_Nv    0.000000\n",
      "12            AB_D    0.000000\n",
      "13           AB_EC    0.006920\n",
      "14           AB_TC    0.022452\n",
      "15            C_AN    0.014324\n",
      "16            C_AW    0.015727\n",
      "17            C_CR    0.003419\n",
      "18            C_AR    0.000000\n",
      "19            C_VR    0.000000\n",
      "20            C_AV    0.010636\n",
      "21           C_FIE    0.000000\n",
      "22           C_SIE    0.000000\n",
      "23            C_EA    0.552212\n",
      "24            C_EN    0.000000\n",
      "25            C_Np    0.000000\n",
      "26            C_Nv    0.000000\n",
      "27             C_D    0.000000\n",
      "28  CurrentDensity    0.081112\n",
      "1.0000000253785402\n"
     ]
    },
    {
     "data": {
      "image/png": "[encoded data removed]",
      "text/plain": [
       "<Figure size 720x432 with 1 Axes>"
      ]
     },
     "metadata": {
      "needs_background": "light"
     },
     "output_type": "display_data"
    }
   ],
   "source": [
    "import xgboost as xgb\n",
    "import pandas as pd\n",
    "import matplotlib.pyplot as plt\n",
    "from xgboost import XGBRegressor\n",
    "import pickle\n",
    "\n",
    "\n",
    "model = XGBRegressor()\n",
    "with open('model/XGBoost_tuning_5.pkl', 'rb') as f:\n",
    "    model = pickle.load(f) \n",
    "\n",
    "data = pd.read_csv('data/compound_feat5.csv').iloc[:, 1:]\n",
    "\n",
    "importance = model.best_estimator_.feature_importances_\n",
    "\n",
    "import numpy as np\n",
    "cols = np.array(['AB_AN', 'AB_AW', 'AB_CR', 'AB_AR', 'AB_VR', 'AB_AV', 'AB_FIE',\n",
    "       'AB_SIE', 'AB_EA', 'AB_EN', 'AB_Nd', 'AB_Nv', 'AB_D', 'AB_EC',\n",
    "       'AB_TC', 'C_AN', 'C_AW', 'C_CR', 'C_AR', 'C_VR', 'C_AV', 'C_FIE',\n",
    "       'C_SIE', 'C_EA', 'C_EN', 'C_Np', 'C_Nv', 'C_D', 'CurrentDensity'])\n",
    "\n",
    "importance_df = pd.DataFrame({\n",
    "    'Feature': cols,\n",
    "    'Importance': importance\n",
    "})\n",
    "\n",
    "\n",
    "\n",
    "\n",
    "print(importance_df)\n",
    "print(sum(importance_df['Importance'].values))\n",
    "\n",
    "plt.figure(figsize=(10, 6))\n",
    "plt.barh(importance_df['Feature'], importance_df['Importance'], color='skyblue')\n",
    "plt.xlabel('Importance')\n",
    "plt.title('Feature Importance')\n",
    "plt.gca().invert_yaxis()\n",
    "plt.show()\n"
   ]
  },
  {
   "cell_type": "markdown",
   "id": "ef330918",
   "metadata": {},
   "source": [
    "## permutation_importance"
   ]
  },
  {
   "cell_type": "code",
   "execution_count": 5,
   "id": "8ac220ee",
   "metadata": {},
   "outputs": [
    {
     "name": "stdout",
     "output_type": "stream",
     "text": [
      "train data: (290, 29)\n",
      "X_test data: (59, 29)\n"
     ]
    }
   ],
   "source": [
    "import numpy as np\n",
    "import xgboost as xgb\n",
    "import pandas as pd\n",
    "import matplotlib.pyplot as plt\n",
    "from xgboost import XGBRegressor\n",
    "import pickle\n",
    "from sklearn.model_selection import train_test_split\n",
    "\n",
    "\n",
    "model = XGBRegressor()\n",
    "with open('model/XGBoost_tuning_5.pkl', 'rb') as f:\n",
    "    model = pickle.load(f) \n",
    "\n",
    "np.random.seed(42)\n",
    "data = pd.read_csv('data/compound_feat5.csv').iloc[:,1:]\n",
    "data['target'] = pd.qcut(data['label'], q=10, labels=False)\n",
    "train_df, test_df = train_test_split(data, test_size=0.2, stratify=data['target'], random_state=43)\n",
    "\n",
    "samples = train_df[train_df['label'] < 1.2]\n",
    "train_df = pd.concat([train_df, samples], axis=0)\n",
    "#train_df = pd.concat([train_df, samples], axis=0)\n",
    "train_df = train_df.sample(frac=1).reset_index(drop=True)\n",
    "\n",
    "train_df = train_df.drop(columns=['target'])\n",
    "test_df = test_df.drop(columns=['target'])\n",
    "\n",
    "X_train, y_train = train_df.iloc[:, :-1], train_df.iloc[:, -1:].values\n",
    "X_test, y_test = test_df.iloc[:, :-1], test_df.iloc[:, -1:].values\n",
    "\n",
    "print('train data:', X_train.shape)\n",
    "print('X_test data:', X_test.shape)"
   ]
  },
  {
   "cell_type": "code",
   "execution_count": 6,
   "id": "cd1ab7f7",
   "metadata": {},
   "outputs": [],
   "source": [
    "cols = data.columns[:-2]\n",
    "cols_v2 = ['AB_AN', 'AB_AW', 'AB_CR', 'AB_AR', 'AB_VR', 'AB_AV', 'AB_FIE',\n",
    "       'AB_SIE', 'AB_EA', 'AB_EN', 'AB_Nd', 'AB_Nv', 'AB_D', 'AB_EC',\n",
    "       'AB_TC', 'C_AN', 'C_AW', 'C_CR', 'C_AR', 'C_VR', 'C_AV', 'C_FIE',\n",
    "       'C_SIE', 'C_EA', 'C_EN', 'C_Np', 'C_Nv', 'C_D', 'CurrentDensity']"
   ]
  },
  {
   "cell_type": "code",
   "execution_count": 7,
   "id": "0d6e9af8",
   "metadata": {},
   "outputs": [
    {
     "name": "stdout",
     "output_type": "stream",
     "text": [
      "CurrentDensity                           0.091 +/- 0.017\n",
      "C_EA                               0.016 +/- 0.004\n",
      "AB_AN                              0.013 +/- 0.003\n",
      "AB_TC                              0.012 +/- 0.003\n",
      "AB_Nd                              0.010 +/- 0.003\n",
      "AB_FIE                             0.009 +/- 0.002\n",
      "AB_EA                              0.007 +/- 0.003\n",
      "C_AN                               0.004 +/- 0.001\n",
      "AB_CR                              0.003 +/- 0.001\n",
      "AB_EC                              0.002 +/- 0.001\n",
      "C_CR                               0.001 +/- 0.000\n",
      "AB_VR                              0.001 +/- 0.000\n",
      "AB_SIE                             0.001 +/- 0.000\n",
      "C_AW                               0.001 +/- 0.000\n",
      "AB_AV                              0.000 +/- 0.000\n",
      "AB_AW                              0.000 +/- 0.000\n",
      "C_AV                               0.000 +/- 0.000\n",
      "AB_AR                              0.000 +/- 0.000\n",
      "C_Np                               0.000 +/- 0.000\n",
      "AB_Nv                              0.000 +/- 0.000\n",
      "C_EN                               0.000 +/- 0.000\n",
      "C_D                                0.000 +/- 0.000\n",
      "C_AR                               0.000 +/- 0.000\n",
      "C_VR                               0.000 +/- 0.000\n",
      "C_FIE                              0.000 +/- 0.000\n",
      "C_SIE                              0.000 +/- 0.000\n",
      "C_Nv                               0.000 +/- 0.000\n",
      "AB_D                               0.000 +/- 0.000\n",
      "AB_EN                              -0.000 +/- 0.000\n"
     ]
    }
   ],
   "source": [
    "from sklearn.inspection import permutation_importance\n",
    "r = permutation_importance(model, X_test, y_test,\n",
    "                           n_repeats=30,\n",
    "                           random_state=2024)\n",
    "# print(r.importances.shape)\n",
    "\n",
    "for i in r.importances_mean.argsort()[::-1]:\n",
    "#     if r.importances_mean[i] - 2 * r.importances_std[i] > 0:\n",
    "#         print(f\"{cols_v2[i]:<8}\"\n",
    "#               f\"{r.importances_mean[i]:.3f}\"\n",
    "#               f\" +/- {r.importances_std[i]:.3f}\")\n",
    "    print(f\"{cols_v2[i]:<8}\"\n",
    "          \"                           \"\n",
    "              f\"{r.importances_mean[i]:.3f}\"\n",
    "              f\" +/- {r.importances_std[i]:.3f}\")"
   ]
  },
  {
   "cell_type": "code",
   "execution_count": null,
   "id": "daf8e359",
   "metadata": {},
   "outputs": [],
   "source": []
  }
 ],
 "metadata": {
  "kernelspec": {
   "display_name": "Python 3",
   "language": "python",
   "name": "python3"
  },
  "language_info": {
   "codemirror_mode": {
    "name": "ipython",
    "version": 3
   },
   "file_extension": ".py",
   "mimetype": "text/x-python",
   "name": "python",
   "nbconvert_exporter": "python",
   "pygments_lexer": "ipython3",
   "version": "3.6.13"
  }
 },
 "nbformat": 4,
 "nbformat_minor": 5
}
