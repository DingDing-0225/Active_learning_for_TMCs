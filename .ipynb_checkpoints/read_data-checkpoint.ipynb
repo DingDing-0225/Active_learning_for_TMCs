{
 "cells": [
  {
   "cell_type": "code",
   "execution_count": 1,
   "id": "3c7b8e99",
   "metadata": {},
   "outputs": [],
   "source": [
    "import pandas as pd\n",
    "import numpy as np"
   ]
  },
  {
   "cell_type": "code",
   "execution_count": 2,
   "id": "459a5117",
   "metadata": {
    "scrolled": false
   },
   "outputs": [
    {
     "name": "stdout",
     "output_type": "stream",
     "text": [
      "(16164, 3)\n"
     ]
    }
   ],
   "source": [
    "tmcs = pd.read_excel('data/predict_5_400.xlsx', sheet_name='TMCs', usecols=['compounds','CurrentDensity','overpotential']).loc[:16165, :]\n",
    "print(tmcs.shape)\n",
    "cols_tm = ['element','AN','AW','CR','AR','VR','AV','FIE','SIE','EA','EN','Nd','Nv','D','EC','TC']\n",
    "tm = pd.read_excel('data/1.xlsx', sheet_name='TM_descriptors', usecols=cols_tm).fillna(0,inplace = False).replace('/', 0, inplace=False)\n",
    "cols_c = ['element','AN','AW','CR','AR','VR','AV','FIE','SIE','EA','EN','Np','Nv','D']\n",
    "c =  pd.read_excel('data/1.xlsx', sheet_name='C_descriptors', usecols=cols_c).fillna(0,inplace = False)"
   ]
  },
  {
   "cell_type": "code",
   "execution_count": 3,
   "id": "aa6b453c",
   "metadata": {},
   "outputs": [],
   "source": [
    "import re\n",
    "import json\n",
    "\n",
    "def parse_compound(compound):\n",
    "    matches = re.findall(r'([A-Z][a-z]*)(\\d*\\.*\\d*)', compound)\n",
    "    result = {}\n",
    "    for match in matches:\n",
    "        element, count = match\n",
    "        count = float(count) if count else 1.0  # 如果没有数字，默认为1.0\n",
    "        result[element] = count\n",
    "    \n",
    "    return result\n",
    "\n",
    "def get_res(compound_name):\n",
    "    parsed_result = parse_compound(compound_name)\n",
    "    return parsed_result"
   ]
  },
  {
   "cell_type": "code",
   "execution_count": 4,
   "id": "e7d93b2a",
   "metadata": {},
   "outputs": [],
   "source": [
    "test = get_res('Mn0.2Cr0.8N')"
   ]
  },
  {
   "cell_type": "code",
   "execution_count": 5,
   "id": "4e734046",
   "metadata": {},
   "outputs": [
    {
     "data": {
      "text/plain": [
       "['element',\n",
       " 'AN',\n",
       " 'AW',\n",
       " 'CR',\n",
       " 'AR',\n",
       " 'VR',\n",
       " 'AV',\n",
       " 'FIE',\n",
       " 'SIE',\n",
       " 'EA',\n",
       " 'EN',\n",
       " 'Nd',\n",
       " 'Nv',\n",
       " 'D',\n",
       " 'EC',\n",
       " 'TC']"
      ]
     },
     "execution_count": 5,
     "metadata": {},
     "output_type": "execute_result"
    }
   ],
   "source": [
    "tm.columns.tolist()"
   ]
  },
  {
   "cell_type": "code",
   "execution_count": 6,
   "id": "05677135",
   "metadata": {},
   "outputs": [
    {
     "data": {
      "text/plain": [
       "['element',\n",
       " 'AN',\n",
       " 'AW',\n",
       " 'CR',\n",
       " 'AR',\n",
       " 'VR',\n",
       " 'AV',\n",
       " 'FIE',\n",
       " 'SIE',\n",
       " 'EA',\n",
       " 'EN',\n",
       " 'Np',\n",
       " 'Nv',\n",
       " 'D']"
      ]
     },
     "execution_count": 6,
     "metadata": {},
     "output_type": "execute_result"
    }
   ],
   "source": [
    "c.columns.tolist()"
   ]
  },
  {
   "cell_type": "code",
   "execution_count": 7,
   "id": "5512dcf3",
   "metadata": {},
   "outputs": [
    {
     "data": {
      "text/plain": [
       "array(['AB_AN', 'AB_AW', 'AB_CR', 'AB_AR', 'AB_VR', 'AB_AV', 'AB_FIE',\n",
       "       'AB_SIE', 'AB_EA', 'AB_EN', 'AB_Nd', 'AB_Nv', 'AB_D', 'AB_EC',\n",
       "       'AB_TC', 'C_AN', 'C_AW', 'C_CR', 'C_AR', 'C_VR', 'C_AV', 'C_FIE',\n",
       "       'C_SIE', 'C_EA', 'C_EN', 'C_Np', 'C_Nv', 'C_D', 'CurrentDensity',\n",
       "       'overpotential'], dtype='<U14')"
      ]
     },
     "execution_count": 7,
     "metadata": {},
     "output_type": "execute_result"
    }
   ],
   "source": [
    "columns = [f'AB_{i}' for i in tm.columns.tolist()[1:]] + [f'C_{i}' for i in c.columns.tolist()[1:]] + ['CurrentDensity','overpotential']\n",
    "np.array(columns)"
   ]
  },
  {
   "cell_type": "code",
   "execution_count": 8,
   "id": "39f0a543",
   "metadata": {},
   "outputs": [
    {
     "name": "stdout",
     "output_type": "stream",
     "text": [
      "object\n"
     ]
    }
   ],
   "source": [
    "print(tmcs['compounds'].dtype)"
   ]
  },
  {
   "cell_type": "code",
   "execution_count": null,
   "id": "6f2564c3",
   "metadata": {
    "scrolled": false
   },
   "outputs": [],
   "source": [
    "train_data = []\n",
    "for index, compound in enumerate(tmcs['compounds']):\n",
    "    compound_feat = [compound]\n",
    "    compound = get_res(compound)\n",
    "    keys = list(compound.keys())\n",
    "    val = list(compound.values())\n",
    "    if len(keys) > 2:\n",
    "        A_key, A_index = keys[0], val[0]\n",
    "        B_key, B_index = keys[1], val[1]\n",
    "        A_feat = tm[tm['element']==A_key].values.flatten()[1:] * float(A_index)\n",
    "        B_feat = tm[tm['element']==B_key].values.flatten()[1:] * float(B_index)\n",
    "        C_feat = c[c['element']==keys[2]].values.flatten()[1:] * float(val[2])\n",
    "        AB_feat = np.array([a + b for a, b in zip(A_feat, B_feat)])\n",
    "        compound_feat += list(AB_feat) + list(C_feat) + list([tmcs.loc[index, 'CurrentDensity'], round(tmcs.loc[index, 'overpotential'], 2)])\n",
    "    else:\n",
    "        AB_key = keys[0]\n",
    "        AB_index = val[0]\n",
    "        AB_feat = tm[tm['element']==AB_key].values.flatten()[1:] * float(AB_index)\n",
    "        C_feat = c[c['element']==keys[1]].values.flatten()[1:] * float(val[1])\n",
    "        compound_feat += list(AB_feat) + list(C_feat) + list([tmcs.loc[index, 'CurrentDensity'], round(tmcs.loc[index, 'overpotential'], 2)])\n",
    "    train_data.append(compound_feat)\n",
    "col = ['compound']\n",
    "tail = ['label']\n",
    "train_data_ = pd.DataFrame(train_data, columns=col + [f'feat_{i}' for i in range(1, 30)] + tail)\n",
    "train_data_.to_csv('data/compound_predict_5_400.csv', index=False)\n"
   ]
  },
  {
   "cell_type": "code",
   "execution_count": 10,
   "id": "cef7ae21",
   "metadata": {},
   "outputs": [
    {
     "data": {
      "text/plain": [
       "Index(['compound', 'feat_1', 'feat_2', 'feat_3', 'feat_4', 'feat_5', 'feat_6',\n",
       "       'feat_7', 'feat_8', 'feat_9', 'feat_10', 'feat_11', 'feat_12',\n",
       "       'feat_13', 'feat_14', 'feat_15', 'feat_16', 'feat_17', 'feat_18',\n",
       "       'feat_19', 'feat_20', 'feat_21', 'feat_22', 'feat_23', 'feat_24',\n",
       "       'feat_25', 'feat_26', 'feat_27', 'feat_28', 'feat_29', 'label'],\n",
       "      dtype='object')"
      ]
     },
     "execution_count": 10,
     "metadata": {},
     "output_type": "execute_result"
    }
   ],
   "source": [
    "train_data_.columns"
   ]
  },
  {
   "cell_type": "code",
   "execution_count": null,
   "id": "77f30a7f",
   "metadata": {},
   "outputs": [],
   "source": []
  }
 ],
 "metadata": {
  "kernelspec": {
   "display_name": "Python 3",
   "language": "python",
   "name": "python3"
  },
  "language_info": {
   "codemirror_mode": {
    "name": "ipython",
    "version": 3
   },
   "file_extension": ".py",
   "mimetype": "text/x-python",
   "name": "python",
   "nbconvert_exporter": "python",
   "pygments_lexer": "ipython3",
   "version": "3.6.13"
  }
 },
 "nbformat": 4,
 "nbformat_minor": 5
}
