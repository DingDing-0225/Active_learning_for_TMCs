{
 "cells": [
  {
   "cell_type": "code",
   "execution_count": 1,
   "id": "0ae103b2",
   "metadata": {},
   "outputs": [],
   "source": [
    "import pandas as pd\n",
    "import numpy as np\n",
    "import pickle\n",
    "from sklearn.ensemble import RandomForestRegressor"
   ]
  },
  {
   "cell_type": "code",
   "execution_count": 2,
   "id": "17107df2",
   "metadata": {},
   "outputs": [],
   "source": [
    "tmcs = pd.read_excel('data/0.xlsx', sheet_name='TMCs', usecols=['compounds','CurrentDensity','overpotential']).loc[:49, :]\n",
    "new_tmcs = pd.read_csv('new_TMCs_1024.csv')['compound']\n",
    "cols_tm = ['element','AN','AW','CR','AR','VR','AV','FIE','SIE','EA','EN','Nd','Nv','D','EC','TC']\n",
    "tm = pd.read_excel('data/0.xlsx', sheet_name='TM_descriptors', usecols=cols_tm).fillna(0,inplace = False).replace('/', 0, inplace=False)\n",
    "cols_c = ['element','AN','AW','CR','AR','VR','AV','FIE','SIE','EA','EN','Np','Nv','D']\n",
    "c =  pd.read_excel('data/0.xlsx', sheet_name='C_descriptors', usecols=cols_c).fillna(0,inplace = False)"
   ]
  },
  {
   "cell_type": "code",
   "execution_count": 3,
   "id": "90f6223e",
   "metadata": {},
   "outputs": [],
   "source": [
    "import re\n",
    "import json\n",
    "\n",
    "def parse_compound(compound):\n",
    "    matches = re.findall(r'([A-Z][a-z]*)(\\d*\\.*\\d*)', compound)\n",
    "    result = {}\n",
    "    for match in matches:\n",
    "        element, count = match\n",
    "        count = float(count) if count else 1.0  \n",
    "        result[element] = count\n",
    "    \n",
    "    return result\n",
    "\n",
    "def get_res(compound_name):\n",
    "    parsed_result = parse_compound(compound_name)\n",
    "    return parsed_result"
   ]
  },
  {
   "cell_type": "code",
   "execution_count": 29,
   "id": "e2d52862",
   "metadata": {},
   "outputs": [],
   "source": [
    "train_data = []\n",
    "for index, compound in enumerate(new_tmcs.values):\n",
    "    compound_feat = [compound]\n",
    "    compound = get_res(compound)\n",
    "    keys = list(compound.keys())\n",
    "    val = list(compound.values())\n",
    "    if len(keys) > 2:\n",
    "        A_key, A_index = keys[0], val[0]\n",
    "        B_key, B_index = keys[1], val[1]\n",
    "        A_feat = tm[tm['element']==A_key].values.flatten()[1:] * float(A_index)\n",
    "        B_feat = tm[tm['element']==B_key].values.flatten()[1:] * float(B_index)\n",
    "        C_feat = c[c['element']==keys[2]].values.flatten()[1:] * float(val[2])\n",
    "        AB_feat = np.array([a + b for a, b in zip(A_feat, B_feat)])\n",
    "        compound_feat += list(AB_feat) + list(C_feat) + list([50])\n",
    "    else:\n",
    "        AB_key = keys[0]\n",
    "        AB_index = val[0]\n",
    "        AB_feat = tm[tm['element']==AB_key].values.flatten()[1:] * float(AB_index)\n",
    "        C_feat = c[c['element']==keys[1]].values.flatten()[1:] * float(val[1])\n",
    "        compound_feat += list(AB_feat) + list(C_feat) + list([50])\n",
    "    train_data.append(compound_feat)"
   ]
  },
  {
   "cell_type": "code",
   "execution_count": 30,
   "id": "23f41bfe",
   "metadata": {},
   "outputs": [
    {
     "data": {
      "text/plain": [
       "(16164, 29)"
      ]
     },
     "execution_count": 30,
     "metadata": {},
     "output_type": "execute_result"
    }
   ],
   "source": [
    "predict_data = np.array(train_data)[:, 1:]\n",
    "predict_data.shape"
   ]
  },
  {
   "cell_type": "code",
   "execution_count": 31,
   "id": "e9f53cd1",
   "metadata": {},
   "outputs": [
    {
     "name": "stdout",
     "output_type": "stream",
     "text": [
      "[[2.10000e+01 4.49559e+01 1.70000e+00 ... 6.00000e+00 1.42900e-03\n",
      "  5.00000e+01]\n",
      " [2.10000e+01 4.49559e+01 1.70000e+00 ... 1.20000e+01 2.85800e-03\n",
      "  5.00000e+01]\n",
      " [2.10000e+01 4.49559e+01 1.70000e+00 ... 1.80000e+01 4.28700e-03\n",
      "  5.00000e+01]\n",
      " ...\n",
      " [4.20000e+01 9.79835e+01 1.68000e+00 ... 1.20000e+01 3.92000e+00\n",
      "  5.00000e+01]\n",
      " [4.25000e+01 9.95266e+01 1.65000e+00 ... 1.20000e+01 3.92000e+00\n",
      "  5.00000e+01]\n",
      " [4.30000e+01 9.94100e+01 1.64000e+00 ... 1.20000e+01 3.92000e+00\n",
      "  5.00000e+01]]\n"
     ]
    }
   ],
   "source": [
    "print(predict_data.astype(float))"
   ]
  },
  {
   "cell_type": "code",
   "execution_count": 32,
   "id": "6817b76d",
   "metadata": {},
   "outputs": [],
   "source": [
    "# regressor  =RandomForestRegressor(n_estimators=100, random_state=21)\n",
    "from xgboost import XGBRegressor\n",
    "model=XGBRegressor()\n",
    "with open('model/XGBoost_tuning_5.pkl', 'rb') as f:\n",
    "    model = pickle.load(f) \n",
    "y_pred = model.predict(predict_data.astype(float))"
   ]
  },
  {
   "cell_type": "code",
   "execution_count": 7,
   "id": "d7538710",
   "metadata": {},
   "outputs": [],
   "source": [
    "# regressor  =RandomForestRegressor(n_estimators=100, random_state=21)\n",
    "with open('model/rf_tuning_4.pkl', 'rb') as f:\n",
    "    model = pickle.load(f)\n",
    "\n",
    "y_pred = model.predict(predict_data)"
   ]
  },
  {
   "cell_type": "code",
   "execution_count": 33,
   "id": "2cc4a12f",
   "metadata": {},
   "outputs": [],
   "source": [
    "index = np.array(train_data)[:,:1]\n",
    "y_pred = np.array(y_pred).reshape(-1, 1)\n",
    "result = np.concatenate((index, y_pred), axis=1)\n",
    "sorted_indices = np.argsort(result[:, 1])\n",
    "sorted_compound = result[sorted_indices]\n",
    "col = ['compound', 'overpotential']\n",
    "df_sorted_compound = pd.DataFrame(sorted_compound, columns=col)\n",
    "import os\n",
    "if not os.path.exists('predict/'):\n",
    "    os.makedirs('predict/')\n",
    "df_sorted_compound.to_csv('predict/predict_5_50.csv', index=False)"
   ]
  },
  {
   "cell_type": "code",
   "execution_count": null,
   "id": "f1947fa2",
   "metadata": {},
   "outputs": [],
   "source": []
  }
 ],
 "metadata": {
  "kernelspec": {
   "display_name": "Python 3",
   "language": "python",
   "name": "python3"
  },
  "language_info": {
   "codemirror_mode": {
    "name": "ipython",
    "version": 3
   },
   "file_extension": ".py",
   "mimetype": "text/x-python",
   "name": "python",
   "nbconvert_exporter": "python",
   "pygments_lexer": "ipython3",
   "version": "3.6.13"
  }
 },
 "nbformat": 4,
 "nbformat_minor": 5
}
